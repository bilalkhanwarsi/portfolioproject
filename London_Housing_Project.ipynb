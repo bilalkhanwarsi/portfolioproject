{
 "cells": [
  {
   "cell_type": "markdown",
   "metadata": {},
   "source": [
    "The London Housing Data is analyzed in a very Easy To Understand (ETU) language.\n",
    "Here, we will work on a real project of Data Analysis with Python. \n",
    "## Following Questions will be answered in the project with the help of Python. \n",
    "\n",
    "1. Convert the Datatype of 'Date' column to Date-Time format.\n",
    "2. Add a new column ''year'' in the dataframe, which contains years only.(B.2) Add a new column ''month'' as 2nd column in the dataframe, which contains month only.\n",
    "3. Remove the columns 'year' and 'month' from the dataframe.\n",
    "4. Show all the records where 'No. of Crimes' is 0. And, how many such records are there ?\n",
    "5. What is the maximum & minimum 'average_price' per year in england ?\n",
    "6. What is the Maximum & Minimum No. of Crimes recorded per area ?\n",
    "7. Show the total count of records of each area, where average price is less than 100000.\n",
    "\n",
    "-----------------------------------------------------------------------\n",
    "\n",
    "## The commands that we used in this project :\n",
    "\n",
    "* import pandas as pd -- To import Pandas library\n",
    "* pd.read_csv - To import the CSV file in Jupyter notebook\n",
    "* df.count() - It counts the no. of non-null values of each column.\n",
    "* df.isnull().sum() - It detects the missing values from the dataframe.\n",
    "* import seaborn as sns - To import the Seaborn library.\n",
    "* import matplotlib.pyplot as plt - To import the Matplotlib library.\n",
    "* sns.heatmap(df.isnull()) - It will show the all columns & missing values in them in heat map form.\n",
    "* plt.show() - To show the plot.\n",
    "* df.dtypes - To show the datatype of each column.\n",
    "* pd.to_datetime(df.Date_Time_Col) - Converts the data-type of Date-Time Column into datetime[ns] datatype.\n",
    "* df.Time_Col.dt.year - Creating a new column with only year values\n",
    "* df.Time_Col.dt.month - Creating a new column with only month values.\n",
    "* df.insert( index , ‘new_column_name’, new_column_values) - To insert a New column at a particular position with values in it.\n",
    "* df.drop(['Col_name'] , axis=1 , inplace = True) - To drop a column from the dataframe permanently.\n",
    "* df.groupby(‘Col_name’) - To form groups of all unique values of the column.\n",
    "* df[df.Col_1 = = ‘Element1’] - Filtering – We are accessing all records with Element1 only of Col_1.\n",
    "* df.groupby(‘Col_1’)[‘Col_2’] .mean( ) - To create groups - Two Keys – Apply on Col_2 grouped by Col_1."
   ]
  },
  {
   "cell_type": "markdown",
   "metadata": {},
   "source": [
    "## Importing libraries"
   ]
  },
  {
   "cell_type": "code",
   "execution_count": 1,
   "metadata": {},
   "outputs": [],
   "source": [
    "import pandas as pd"
   ]
  },
  {
   "cell_type": "markdown",
   "metadata": {},
   "source": [
    "## Reading csv data"
   ]
  },
  {
   "cell_type": "code",
   "execution_count": 2,
   "metadata": {},
   "outputs": [],
   "source": [
    "data = pd.read_csv(r'C:\\Users\\bilal\\pythontutorials\\London_Housing_Data.csv')"
   ]
  },
  {
   "cell_type": "markdown",
   "metadata": {},
   "source": [
    "## exploring data"
   ]
  },
  {
   "cell_type": "code",
   "execution_count": 3,
   "metadata": {},
   "outputs": [
    {
     "data": {
      "text/html": [
       "<div>\n",
       "<style scoped>\n",
       "    .dataframe tbody tr th:only-of-type {\n",
       "        vertical-align: middle;\n",
       "    }\n",
       "\n",
       "    .dataframe tbody tr th {\n",
       "        vertical-align: top;\n",
       "    }\n",
       "\n",
       "    .dataframe thead th {\n",
       "        text-align: right;\n",
       "    }\n",
       "</style>\n",
       "<table border=\"1\" class=\"dataframe\">\n",
       "  <thead>\n",
       "    <tr style=\"text-align: right;\">\n",
       "      <th></th>\n",
       "      <th>date</th>\n",
       "      <th>area</th>\n",
       "      <th>average_price</th>\n",
       "      <th>code</th>\n",
       "      <th>houses_sold</th>\n",
       "      <th>no_of_crimes</th>\n",
       "    </tr>\n",
       "  </thead>\n",
       "  <tbody>\n",
       "    <tr>\n",
       "      <th>0</th>\n",
       "      <td>1/1/1995</td>\n",
       "      <td>city of london</td>\n",
       "      <td>91449</td>\n",
       "      <td>E09000001</td>\n",
       "      <td>17.0</td>\n",
       "      <td>NaN</td>\n",
       "    </tr>\n",
       "    <tr>\n",
       "      <th>1</th>\n",
       "      <td>2/1/1995</td>\n",
       "      <td>city of london</td>\n",
       "      <td>82203</td>\n",
       "      <td>E09000001</td>\n",
       "      <td>7.0</td>\n",
       "      <td>NaN</td>\n",
       "    </tr>\n",
       "    <tr>\n",
       "      <th>2</th>\n",
       "      <td>3/1/1995</td>\n",
       "      <td>city of london</td>\n",
       "      <td>79121</td>\n",
       "      <td>E09000001</td>\n",
       "      <td>14.0</td>\n",
       "      <td>NaN</td>\n",
       "    </tr>\n",
       "    <tr>\n",
       "      <th>3</th>\n",
       "      <td>4/1/1995</td>\n",
       "      <td>city of london</td>\n",
       "      <td>77101</td>\n",
       "      <td>E09000001</td>\n",
       "      <td>7.0</td>\n",
       "      <td>NaN</td>\n",
       "    </tr>\n",
       "    <tr>\n",
       "      <th>4</th>\n",
       "      <td>5/1/1995</td>\n",
       "      <td>city of london</td>\n",
       "      <td>84409</td>\n",
       "      <td>E09000001</td>\n",
       "      <td>10.0</td>\n",
       "      <td>NaN</td>\n",
       "    </tr>\n",
       "  </tbody>\n",
       "</table>\n",
       "</div>"
      ],
      "text/plain": [
       "       date            area  average_price       code  houses_sold  \\\n",
       "0  1/1/1995  city of london          91449  E09000001         17.0   \n",
       "1  2/1/1995  city of london          82203  E09000001          7.0   \n",
       "2  3/1/1995  city of london          79121  E09000001         14.0   \n",
       "3  4/1/1995  city of london          77101  E09000001          7.0   \n",
       "4  5/1/1995  city of london          84409  E09000001         10.0   \n",
       "\n",
       "   no_of_crimes  \n",
       "0           NaN  \n",
       "1           NaN  \n",
       "2           NaN  \n",
       "3           NaN  \n",
       "4           NaN  "
      ]
     },
     "execution_count": 3,
     "metadata": {},
     "output_type": "execute_result"
    }
   ],
   "source": [
    "data.head()"
   ]
  },
  {
   "cell_type": "code",
   "execution_count": 4,
   "metadata": {},
   "outputs": [
    {
     "data": {
      "text/plain": [
       "(13549, 6)"
      ]
     },
     "execution_count": 4,
     "metadata": {},
     "output_type": "execute_result"
    }
   ],
   "source": [
    "data.shape"
   ]
  },
  {
   "cell_type": "code",
   "execution_count": 5,
   "metadata": {},
   "outputs": [
    {
     "data": {
      "text/plain": [
       "RangeIndex(start=0, stop=13549, step=1)"
      ]
     },
     "execution_count": 5,
     "metadata": {},
     "output_type": "execute_result"
    }
   ],
   "source": [
    "data.index"
   ]
  },
  {
   "cell_type": "code",
   "execution_count": 13,
   "metadata": {},
   "outputs": [
    {
     "data": {
      "text/plain": [
       "date             datetime64[ns]\n",
       "area                     object\n",
       "average_price             int64\n",
       "code                     object\n",
       "houses_sold             float64\n",
       "no_of_crimes            float64\n",
       "dtype: object"
      ]
     },
     "execution_count": 13,
     "metadata": {},
     "output_type": "execute_result"
    }
   ],
   "source": [
    "data.dtypes"
   ]
  },
  {
   "cell_type": "code",
   "execution_count": 7,
   "metadata": {},
   "outputs": [
    {
     "data": {
      "text/plain": [
       "date                0\n",
       "area                0\n",
       "average_price       0\n",
       "code                0\n",
       "houses_sold        94\n",
       "no_of_crimes     6110\n",
       "dtype: int64"
      ]
     },
     "execution_count": 7,
     "metadata": {},
     "output_type": "execute_result"
    }
   ],
   "source": [
    "data.isnull().sum()"
   ]
  },
  {
   "cell_type": "markdown",
   "metadata": {},
   "source": [
    "## Convert the Datatype of 'Date' column to Date-Time format.\n"
   ]
  },
  {
   "cell_type": "code",
   "execution_count": 12,
   "metadata": {},
   "outputs": [],
   "source": [
    "data.date = pd.to_datetime(data.date)"
   ]
  },
  {
   "cell_type": "markdown",
   "metadata": {},
   "source": [
    " ## Add a new column ''year'' in the dataframe, which contains years only.\n",
    " ##  Add a new column ''month'' as 2nd column in the dataframe, which contains month only."
   ]
  },
  {
   "cell_type": "code",
   "execution_count": 37,
   "metadata": {},
   "outputs": [],
   "source": [
    "data['year'] = data.date.dt.year"
   ]
  },
  {
   "cell_type": "code",
   "execution_count": 20,
   "metadata": {},
   "outputs": [],
   "source": [
    "data.insert (3, 'Month' , data.date.dt.month)"
   ]
  },
  {
   "cell_type": "markdown",
   "metadata": {},
   "source": [
    "## Remove the columns 'year' and 'month' from the dataframe."
   ]
  },
  {
   "cell_type": "code",
   "execution_count": 24,
   "metadata": {},
   "outputs": [],
   "source": [
    "data.drop(['Month' , 'year'], axis = 1 , inplace = True)"
   ]
  },
  {
   "cell_type": "markdown",
   "metadata": {},
   "source": [
    "## Show all the records where 'No. of Crimes' is 0. And, how many such records are there ?"
   ]
  },
  {
   "cell_type": "code",
   "execution_count": 30,
   "metadata": {},
   "outputs": [
    {
     "data": {
      "text/plain": [
       "104"
      ]
     },
     "execution_count": 30,
     "metadata": {},
     "output_type": "execute_result"
    }
   ],
   "source": [
    "#data[data['no_of_crimes'] == 0]\n",
    "len(data[data['no_of_crimes'] == 0])"
   ]
  },
  {
   "cell_type": "markdown",
   "metadata": {},
   "source": [
    "##  What is the maximum & minimum 'average_price' per year in england ?"
   ]
  },
  {
   "cell_type": "code",
   "execution_count": 43,
   "metadata": {},
   "outputs": [],
   "source": [
    "englanddata = data[data.area == 'england']"
   ]
  },
  {
   "cell_type": "code",
   "execution_count": 44,
   "metadata": {},
   "outputs": [
    {
     "data": {
      "text/plain": [
       "year\n",
       "1995     53901\n",
       "1996     55755\n",
       "1997     61564\n",
       "1998     65743\n",
       "1999     75071\n",
       "2000     84191\n",
       "2001     95992\n",
       "2002    119982\n",
       "2003    138985\n",
       "2004    160330\n",
       "2005    167244\n",
       "2006    182031\n",
       "2007    194764\n",
       "2008    191750\n",
       "2009    174136\n",
       "2010    180807\n",
       "2011    177335\n",
       "2012    180129\n",
       "2013    188544\n",
       "2014    203639\n",
       "2015    219582\n",
       "2016    231922\n",
       "2017    242628\n",
       "2018    248620\n",
       "2019    250410\n",
       "2020    247355\n",
       "Name: average_price, dtype: int64"
      ]
     },
     "execution_count": 44,
     "metadata": {},
     "output_type": "execute_result"
    }
   ],
   "source": [
    "englanddata.groupby('year').average_price.max()"
   ]
  },
  {
   "cell_type": "code",
   "execution_count": 45,
   "metadata": {},
   "outputs": [
    {
     "data": {
      "text/plain": [
       "year\n",
       "1995     52788\n",
       "1996     52333\n",
       "1997     55789\n",
       "1998     61659\n",
       "1999     65522\n",
       "2000     75219\n",
       "2001     84245\n",
       "2002     96215\n",
       "2003    121610\n",
       "2004    139719\n",
       "2005    158572\n",
       "2006    166544\n",
       "2007    181824\n",
       "2008    165795\n",
       "2009    159340\n",
       "2010    174458\n",
       "2011    173046\n",
       "2012    174161\n",
       "2013    176816\n",
       "2014    188265\n",
       "2015    202856\n",
       "2016    220361\n",
       "2017    231593\n",
       "2018    240428\n",
       "2019    243281\n",
       "2020    247355\n",
       "Name: average_price, dtype: int64"
      ]
     },
     "execution_count": 45,
     "metadata": {},
     "output_type": "execute_result"
    }
   ],
   "source": [
    "englanddata.groupby('year').average_price.min()"
   ]
  },
  {
   "cell_type": "markdown",
   "metadata": {},
   "source": [
    "##  What is the Maximum & Minimum No. of Crimes recorded per area ?"
   ]
  },
  {
   "cell_type": "code",
   "execution_count": 50,
   "metadata": {},
   "outputs": [
    {
     "data": {
      "text/plain": [
       "area\n",
       "barking and dagenham      1217.0\n",
       "barnet                    1703.0\n",
       "bexley                     860.0\n",
       "brent                     1850.0\n",
       "bromley                   1441.0\n",
       "camden                    2079.0\n",
       "city of london               0.0\n",
       "croydon                   2031.0\n",
       "ealing                    1871.0\n",
       "east midlands                NaN\n",
       "east of england              NaN\n",
       "enfield                   1635.0\n",
       "england                      NaN\n",
       "greenwich                 1513.0\n",
       "hackney                   1870.0\n",
       "hammersmith and fulham    1323.0\n",
       "haringey                  1536.0\n",
       "harrow                     937.0\n",
       "havering                  1130.0\n",
       "hillingdon                1445.0\n",
       "hounslow                  1529.0\n",
       "inner london                 NaN\n",
       "islington                 1871.0\n",
       "kensington and chelsea    1347.0\n",
       "kingston upon thames       692.0\n",
       "lambeth                   2381.0\n",
       "lewisham                  1675.0\n",
       "london                       NaN\n",
       "merton                     819.0\n",
       "newham                    2130.0\n",
       "north east                   NaN\n",
       "north west                   NaN\n",
       "outer london                 NaN\n",
       "redbridge                 1487.0\n",
       "richmond upon thames       700.0\n",
       "south east                   NaN\n",
       "south west                   NaN\n",
       "southwark                 2267.0\n",
       "sutton                     787.0\n",
       "tower hamlets             1646.0\n",
       "waltham forest            1575.0\n",
       "wandsworth                1582.0\n",
       "west midlands                NaN\n",
       "westminster               3504.0\n",
       "yorks and the humber         NaN\n",
       "Name: no_of_crimes, dtype: float64"
      ]
     },
     "execution_count": 50,
     "metadata": {},
     "output_type": "execute_result"
    }
   ],
   "source": [
    "#data.groupby('area').no_of_crimes.max()\n",
    "data.groupby('area').no_of_crimes.min()"
   ]
  },
  {
   "cell_type": "markdown",
   "metadata": {},
   "source": [
    "##  Show the total count of records of each area, where average price is less than 100000."
   ]
  },
  {
   "cell_type": "code",
   "execution_count": 54,
   "metadata": {},
   "outputs": [
    {
     "data": {
      "text/plain": [
       "True    2209\n",
       "Name: area, dtype: int64"
      ]
     },
     "execution_count": 54,
     "metadata": {},
     "output_type": "execute_result"
    }
   ],
   "source": [
    "data[data.average_price < 100000].area.value_counts()"
   ]
  },
  {
   "cell_type": "code",
   "execution_count": null,
   "metadata": {},
   "outputs": [],
   "source": []
  }
 ],
 "metadata": {
  "interpreter": {
   "hash": "9193d5cd929d21623bf07a90e0be18e67b4b02860de9be4b0c46f7ee36d71b4e"
  },
  "kernelspec": {
   "display_name": "Python 3.9.5 64-bit ('base': conda)",
   "language": "python",
   "name": "python3"
  },
  "language_info": {
   "codemirror_mode": {
    "name": "ipython",
    "version": 3
   },
   "file_extension": ".py",
   "mimetype": "text/x-python",
   "name": "python",
   "nbconvert_exporter": "python",
   "pygments_lexer": "ipython3",
   "version": "3.9.5"
  },
  "orig_nbformat": 4
 },
 "nbformat": 4,
 "nbformat_minor": 2
}
